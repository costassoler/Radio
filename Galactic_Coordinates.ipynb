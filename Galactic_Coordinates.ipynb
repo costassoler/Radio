{
 "cells": [
  {
   "cell_type": "code",
   "execution_count": 66,
   "metadata": {
    "collapsed": true
   },
   "outputs": [],
   "source": [
    "import numpy as np"
   ]
  },
  {
   "cell_type": "code",
   "execution_count": 67,
   "metadata": {
    "collapsed": false
   },
   "outputs": [
    {
     "name": "stdout",
     "output_type": "stream",
     "text": [
      "(2.0943951023931953, 0.0)\n"
     ]
    }
   ],
   "source": [
    "#Step 0: Given galactic coordinates\n",
    "lon = np.radians(120)\n",
    "lat = np.radians(0) \n",
    "print (lon, lat)"
   ]
  },
  {
   "cell_type": "code",
   "execution_count": 68,
   "metadata": {
    "collapsed": false
   },
   "outputs": [
    {
     "name": "stdout",
     "output_type": "stream",
     "text": [
      "[-0.5        0.8660254  0.       ]\n"
     ]
    }
   ],
   "source": [
    "#Step 1: Convert angles to rectangular coordinates\n",
    "x = np.array([0.,0,0])\n",
    "x[0] = np.cos(lat) * np.cos(lon)\n",
    "x[1] = np.cos(lat) * np.sin(lon)\n",
    "x[2] = np.sin(lat)\n",
    "print x"
   ]
  },
  {
   "cell_type": "code",
   "execution_count": 73,
   "metadata": {
    "collapsed": false
   },
   "outputs": [
    {
     "name": "stdout",
     "output_type": "stream",
     "text": [
      "[0.45534955 0.05148449 0.88882321]\n"
     ]
    }
   ],
   "source": [
    "#Step 2: Apply the rotation matrix \n",
    "\n",
    "##1950 epoch\n",
    "R = np.array([-0.066989, 0.872756, -0.483539, 0.492728, -0.450347, 0.744585, -0.867601, -0.188375, 0.460200])\n",
    "##2000 epoch\n",
    "R = np.array([-0.054876, -0.873437, -0.483835, 0.494109, -0.444830, 0.746982, -0.867666, -0.198076, 0.455984])\n",
    "\n",
    "R = R.reshape(3,3)\n",
    "iR = np.linalg.inv(R)\n",
    "xp = np.dot(iR, x)\n",
    "print xp"
   ]
  },
  {
   "cell_type": "code",
   "execution_count": 74,
   "metadata": {
    "collapsed": false
   },
   "outputs": [
    {
     "name": "stdout",
     "output_type": "stream",
     "text": [
      "(6.450801282430336, 62.72574264979434)\n"
     ]
    }
   ],
   "source": [
    "#Step 3: Convert to new spherical coordinates \n",
    "\n",
    "lonp = np.arctan2(xp[1], xp[0])\n",
    "latp = np.arcsin(xp[2])\n",
    "\n",
    "lonp = np.degrees(lonp) #RA\n",
    "latp = np.degrees(latp) #Dec\n",
    "print (lonp, latp)"
   ]
  },
  {
   "cell_type": "code",
   "execution_count": null,
   "metadata": {
    "collapsed": false
   },
   "outputs": [],
   "source": []
  },
  {
   "cell_type": "code",
   "execution_count": null,
   "metadata": {
    "collapsed": true
   },
   "outputs": [],
   "source": []
  }
 ],
 "metadata": {
  "kernelspec": {
   "display_name": "Python 2",
   "language": "python",
   "name": "python2"
  },
  "language_info": {
   "codemirror_mode": {
    "name": "ipython",
    "version": 2
   },
   "file_extension": ".py",
   "mimetype": "text/x-python",
   "name": "python",
   "nbconvert_exporter": "python",
   "pygments_lexer": "ipython2",
   "version": "2.7.12"
  }
 },
 "nbformat": 4,
 "nbformat_minor": 1
}

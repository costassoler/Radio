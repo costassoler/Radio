{
 "cells": [
  {
   "cell_type": "code",
   "execution_count": 33,
   "metadata": {
    "collapsed": false
   },
   "outputs": [],
   "source": [
    "import matplotlib.pyplot\n",
    "import numpy as np\n",
    "from astropy.time import Time\n",
    "from astropy.time import TimeDelta\n",
    "from astropy.coordinates import SkyCoord\n",
    "import astropy.units as u\n",
    "from astropy.coordinates import FK5\n",
    "import ugradio\n",
    "import astropy"
   ]
  },
  {
   "cell_type": "code",
   "execution_count": 73,
   "metadata": {
    "collapsed": false
   },
   "outputs": [],
   "source": [
    "def get_times(l,b=0):\n",
    "    gal = SkyCoord(l=l*u.degree, b=b*u.degree, frame='galactic')\n",
    "    eq  = gal.fk5\n",
    "    eq.transform_to(FK5(equinox='J2019'))\n",
    "    Ra = eq.ra.degree\n",
    "    Dec = eq.dec.degree\n",
    "    lat = ugradio.leo.lat\n",
    "    lon = ugradio.leo.lon\n",
    "    alt = ugradio.leo.alt\n",
    "    t0 = Time('2019-04-20 07:00:00', format='iso', scale='utc')\n",
    "    dt = TimeDelta(3600, format='sec')\n",
    "    times = t0 + dt*np.arange(0, 24)\n",
    "    loc = astropy.coordinates.EarthLocation(lat=lat*u.deg,\n",
    "                        lon=lon*u.deg,height=alt*u.m)\n",
    "    equinox='J2019'\n",
    "    \n",
    "    alts = []\n",
    "    azs = []\n",
    "    timearr = []\n",
    "    for time in times:\n",
    "        timearr.append(time)\n",
    "        f = astropy.coordinates.AltAz(obstime=time,location=loc)\n",
    "        c = astropy.coordinates.SkyCoord(Ra, Dec, frame='fk5',unit='deg',equinox=equinox)\n",
    "        altaz = c.transform_to(f)\n",
    "        alts.append(altaz.alt.degree)\n",
    "        azs.append(altaz.az.degree)\n",
    "        \n",
    "    alts = np.array(alts)\n",
    "    azs = np.array(azs)\n",
    "    goodtimes = np.array(timearr)\n",
    "    goodtimes[np.where(alts < 15)] = 0\n",
    "    goodtimes[np.where(alts > 85)] = 0\n",
    "    goodtimes[np.where(azs < 5)] = 0\n",
    "    goodtimes[np.where(azs > 350)] = 0\n",
    "    goodtimes = goodtimes[np.where(goodtimes != 0)]\n",
    "    \n",
    "    \n",
    "    return goodtimes"
   ]
  },
  {
   "cell_type": "code",
   "execution_count": 74,
   "metadata": {
    "collapsed": true
   },
   "outputs": [],
   "source": [
    "lvals = np.arange(10,360,20)"
   ]
  },
  {
   "cell_type": "code",
   "execution_count": 77,
   "metadata": {
    "collapsed": false
   },
   "outputs": [
    {
     "name": "stdout",
     "output_type": "stream",
     "text": [
      "6\n",
      "9\n",
      "11\n",
      "13\n",
      "15\n",
      "18\n",
      "18\n",
      "16\n",
      "14\n",
      "12\n",
      "9\n",
      "8\n",
      "4\n",
      "0\n",
      "0\n",
      "0\n",
      "0\n",
      "0\n"
     ]
    }
   ],
   "source": [
    "times = []\n",
    "for val in lvals:\n",
    "    gtime = get_times(val)\n",
    "    times.append(gtime)\n",
    "    print(len(gtime))"
   ]
  },
  {
   "cell_type": "code",
   "execution_count": 80,
   "metadata": {
    "collapsed": false
   },
   "outputs": [
    {
     "data": {
      "text/plain": [
       "'2019-04-20T09:00:00.000(UTC)'"
      ]
     },
     "execution_count": 80,
     "metadata": {},
     "output_type": "execute_result"
    }
   ],
   "source": [
    "times[1][0].fits"
   ]
  },
  {
   "cell_type": "code",
   "execution_count": 94,
   "metadata": {
    "collapsed": false
   },
   "outputs": [
    {
     "name": "stdout",
     "output_type": "stream",
     "text": [
      "The sky section centered at l = 10 rises at 03:00:00.000 and sets at 08:00:00.000\n",
      "\n",
      "The sky section centered at l = 30 rises at 02:00:00.000 and sets at 10:00:00.000\n",
      "\n",
      "The sky section centered at l = 50 rises at 02:00:00.000 and sets at 12:00:00.000\n",
      "\n",
      "The sky section centered at l = 70 rises at 01:00:00.000 and sets at 13:00:00.000\n",
      "\n",
      "The sky section centered at l = 90 rises at 01:00:00.000 and sets at 15:00:00.000\n",
      "\n",
      "The sky section centered at l = 110 rises at 02:00:00.000 and sets at 19:00:00.000\n",
      "\n",
      "The sky section centered at l = 130 rises at 04:00:00.000 and sets at 22:00:00.000\n",
      "\n",
      "The sky section centered at l = 150 rises at 08:00:00.000 and sets at 23:00:00.000\n",
      "\n",
      "The sky section centered at l = 170 rises at 10:00:00.000 and sets at 23:00:00.000\n",
      "\n",
      "The sky section centered at l = 190 rises at 12:00:00.000 and sets at 23:00:00.000\n",
      "\n",
      "The sky section centered at l = 210 rises at 14:00:00.000 and sets at 22:00:00.000\n",
      "\n",
      "The sky section centered at l = 230 rises at 15:00:00.000 and sets at 22:00:00.000\n",
      "\n",
      "The sky section centered at l = 250 rises at 18:00:00.000 and sets at 21:00:00.000\n",
      "\n",
      "The sky section centered at l = 270 does not rise.\n",
      "The sky section centered at l = 290 does not rise.\n",
      "The sky section centered at l = 310 does not rise.\n",
      "The sky section centered at l = 330 does not rise.\n",
      "The sky section centered at l = 350 does not rise.\n"
     ]
    }
   ],
   "source": [
    "for i in range(len(lvals)):\n",
    "    if (len(times[i]) == 0):\n",
    "        print('The sky section centered at l = ' + str(lvals[i]) + ' does not rise.')\n",
    "    else:\n",
    "        seven = 7*3600\n",
    "        dt = TimeDelta(seven, format='sec')\n",
    "        t1 = times[i][0]\n",
    "        t2 = times[i][-1]\n",
    "        timeherer = t1 - dt\n",
    "        timeheres = t2 - dt\n",
    "        print('The sky section centered at l = ' + str(lvals[i])+ ' rises at ' + str(timeherer.fits)[11:-5] + ' and sets at ' + str(timeheres.fits)[11:-5])\n",
    "        print"
   ]
  },
  {
   "cell_type": "code",
   "execution_count": null,
   "metadata": {
    "collapsed": true
   },
   "outputs": [],
   "source": []
  }
 ],
 "metadata": {
  "kernelspec": {
   "display_name": "Python 2",
   "language": "python",
   "name": "python2"
  },
  "language_info": {
   "codemirror_mode": {
    "name": "ipython",
    "version": 2
   },
   "file_extension": ".py",
   "mimetype": "text/x-python",
   "name": "python",
   "nbconvert_exporter": "python",
   "pygments_lexer": "ipython2",
   "version": "2.7.12"
  }
 },
 "nbformat": 4,
 "nbformat_minor": 1
}

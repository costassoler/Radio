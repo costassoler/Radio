{
 "cells": [
  {
   "cell_type": "code",
   "execution_count": 135,
   "metadata": {},
   "outputs": [],
   "source": [
    "import matplotlib.pyplot as plt\n",
    "import astropy\n",
    "import astropy.units as u\n",
    "from astropy.coordinates import SkyCoord\n",
    "from astropy.coordinates import FK5\n",
    "import time\n",
    "import numpy as np\n",
    "\n",
    "def getGalacticPointing(StartL,EndL,StartB,EndB):\n",
    "    l_range = EndL-StartL\n",
    "    b_range = EndB-StartB\n",
    "    l_inc = 4\n",
    "    b_inc = 2\n",
    "\n",
    "    N= int(b_range/b_inc)\n",
    "    M= int(l_range/l_inc)\n",
    "    \n",
    "\n",
    "    POINTS_l = np.empty((N+1,M+1))\n",
    "    POINTS_b = np.empty((N+1,M+1))\n",
    "\n",
    "    for i in range (0,N+1):\n",
    "        for j in range (0,M+1):\n",
    "            coord_l = Start+j*4\n",
    "            coord_b = -20+i*2\n",
    "            POINTS_l[N-i,j] = coord_l\n",
    "            POINTS_b[N-i,j] = coord_b\n",
    "    return POINTS_l, POINTS_b\n",
    "\n",
    "\n",
    "\n"
   ]
  },
  {
   "cell_type": "markdown",
   "metadata": {},
   "source": [
    "## Convert to Ra and Dec"
   ]
  },
  {
   "cell_type": "code",
   "execution_count": 169,
   "metadata": {},
   "outputs": [
    {
     "data": {
      "text/plain": [
       "\"\\nlat = 37.34\\nlon = 121.6\\nalt = 100\\nt = astropy.time.Time(time.time(),format='unix')\\nl = astropy.coordinates.EarthLocation(lat=lat*u.deg,\\n                        lon=lon*u.deg,height=alt*u.m)\\nf = astropy.coordinates.AltAz(obstime=t,location=l)\\nequinox='J2019'\\nc = astropy.coordinates.SkyCoord(Ra, Dec, frame='fk5',unit='deg',equinox=equinox)\\naltaz = c.transform_to(f)\\n\""
      ]
     },
     "execution_count": 169,
     "metadata": {},
     "output_type": "execute_result"
    }
   ],
   "source": [
    "def PointingPlan(PointsL,PointsB):\n",
    "    l = PointsL\n",
    "\n",
    "    b = PointsB\n",
    "    \n",
    "\n",
    "    gal = SkyCoord(l=l*u.degree, b=b*u.degree, frame='galactic')\n",
    "    eq  = gal.fk5\n",
    "    eq.transform_to(FK5(equinox='J2019'))\n",
    "    Ra = eq.ra.degree\n",
    "    Dec = eq.dec.degree\n",
    "    #print(Ra)\n",
    "    #print(Dec)\n",
    "    \n",
    "    return Ra, Dec\n",
    "\n",
    "\n",
    "'''\n",
    "lat = 37.34\n",
    "lon = 121.6\n",
    "alt = 100\n",
    "t = astropy.time.Time(time.time(),format='unix')\n",
    "l = astropy.coordinates.EarthLocation(lat=lat*u.deg,\n",
    "                        lon=lon*u.deg,height=alt*u.m)\n",
    "f = astropy.coordinates.AltAz(obstime=t,location=l)\n",
    "equinox='J2019'\n",
    "c = astropy.coordinates.SkyCoord(Ra, Dec, frame='fk5',unit='deg',equinox=equinox)\n",
    "altaz = c.transform_to(f)\n",
    "'''"
   ]
  },
  {
   "cell_type": "code",
   "execution_count": 205,
   "metadata": {},
   "outputs": [
    {
     "data": {
      "text/plain": [
       "\"\\nlat = 37.34\\nlon = 121.6\\nalt = 100\\nt = astropy.time.Time(time.time(),format='unix')\\nl = astropy.coordinates.EarthLocation(lat=lat*u.deg,\\n                        lon=lon*u.deg,height=alt*u.m)\\nf = astropy.coordinates.AltAz(obstime=t,location=l)\\nequinox='J2019'\\nc = astropy.coordinates.SkyCoord(Ra, Dec, frame='fk5',unit='deg',equinox=equinox)\\naltaz = c.transform_to(f)\\n\""
      ]
     },
     "execution_count": 205,
     "metadata": {},
     "output_type": "execute_result"
    }
   ],
   "source": [
    "def ConstPointing(PointsL,PointsB):\n",
    "    L = PointsL\n",
    "\n",
    "    B = PointsB\n",
    "    \n",
    "    N = L.shape[0]\n",
    "    M = L.shape[1]\n",
    "    \n",
    "    \n",
    "\n",
    "    Ra,Dec = PointingPlan(L,B)\n",
    "    print(Ra.shape[0])\n",
    "    print(L.shape[1])\n",
    "\n",
    "    \n",
    "    AurigaRa = []\n",
    "    PerseusRa = []\n",
    "    AurigaDec = []\n",
    "    PerseusDec = []\n",
    "    CassiopeiaRa = []\n",
    "    CepheusRa = []\n",
    "    LacertaRa = []\n",
    "    CygnusRa = []\n",
    "    AquilaRa = []\n",
    "    ScutumRa = []\n",
    "    SagittariusRa = []\n",
    "    ScorpiusRa = []\n",
    "    LupusRa = []\n",
    "    CenterausRa = []\n",
    "    CruxRa = []\n",
    "    VelaRa = []\n",
    "    PuppisRa = []\n",
    "    CanisMajorRa = []\n",
    "    MonocerosRa = []\n",
    "    GeminiRa = []\n",
    "    \n",
    "    AurigaDec = []\n",
    "    PerseusDec = []\n",
    "    CassiopeiaDec = []\n",
    "    CepheusDec = []\n",
    "    LacertaDec = []\n",
    "    CygnusDec = []\n",
    "    AquilaDec = []\n",
    "    ScutumDec = []\n",
    "    SagittariusDec = []\n",
    "    ScorpiusDec = []\n",
    "    LupusDec = []\n",
    "    CenterausDec = []\n",
    "    CruxDec = []\n",
    "    VelaDec = []\n",
    "    PuppisDec = []\n",
    "    CanisMajorDec = []\n",
    "    MonocerosDec = []\n",
    "    GeminiDec = []\n",
    "    \n",
    "    for i in range (0,N):\n",
    "        for j in range (0,M):\n",
    "        \n",
    "            if (L[i,j]<180) and (L[i,j]>160):\n",
    "                AurigaRa.append(Ra[i,j])\n",
    "                AurigaDec.append(Dec[i,j])\n",
    "            \n",
    "            \n",
    "            if (L[i,j]<160) and (L[i,j]>140):\n",
    "                PerseusRa.append(Ra[i,j])\n",
    "                PerseusDec.append(Dec[i,j])\n",
    "                \n",
    "            if (L[i,j]<140) and (L[i,j]>120):\n",
    "                CassiopeiaRa.append(Ra[i,j])\n",
    "                CassiopeiaDec.append(Dec[i,j])\n",
    "                \n",
    "            if (L[i,j]<120) and (L[i,j]>100):\n",
    "                CepheusRa.append(Ra[i,j])\n",
    "                CepheusDec.append(Dec[i,j])\n",
    "                \n",
    "            if (L[i,j]<100) and (L[i,j]>80):\n",
    "                LacertaRa.append(Ra[i,j])\n",
    "                LacertaDec.append(Dec[i,j])\n",
    "                \n",
    "            if (L[i,j]<80) and (L[i,j]>60):\n",
    "                CygnusRa.append(Ra[i,j])\n",
    "                CygnusDec.append(Dec[i,j])\n",
    "                \n",
    "            if (L[i,j]<60) and (L[i,j]>40):\n",
    "                AquilaRa.append(Ra[i,j])\n",
    "                AquilaDec.append(Dec[i,j])\n",
    "                \n",
    "            if (L[i,j]<40) and (L[i,j]>20):\n",
    "                ScutumRa.append(Ra[i,j])\n",
    "                ScutumDec.append(Dec[i,j])\n",
    "            \n",
    "            if (L[i,j]<20) and (L[i,j]>0):\n",
    "                SagittariusRa.append(Ra[i,j])\n",
    "                SagittariusDec.append(Dec[i,j])\n",
    "            \n",
    "            if (L[i,j]<360) and (L[i,j]>340):\n",
    "                ScorpiusRa.append(Ra[i,j])\n",
    "                ScorpiusDec.append(Dec[i,j])\n",
    "                \n",
    "            if (L[i,j]<340) and (L[i,j]>320):\n",
    "                LupusRa.append(Ra[i,j])\n",
    "                LupusDec.append(Dec[i,j])\n",
    "            \n",
    "            if (L[i,j]<320) and (L[i,j]>300):\n",
    "                CenterausRa.append(Ra[i,j])\n",
    "                CenterausDec.append(Dec[i,j])\n",
    "            \n",
    "            if (L[i,j]<300) and (L[i,j]>280):\n",
    "                CruxRa.append(Ra[i,j])\n",
    "                CruxDec.append(Dec[i,j])\n",
    "            \n",
    "            if (L[i,j]<280) and (L[i,j]>260):\n",
    "                VelaRa.append(Ra[i,j])\n",
    "                VelaDec.append(Dec[i,j])\n",
    "            \n",
    "            if (L[i,j]<260) and (L[i,j]>240):\n",
    "                PuppisRa.append(Ra[i,j])\n",
    "                PuppisDec.append(Dec[i,j])\n",
    "            \n",
    "            if (L[i,j]<240) and (L[i,j]>220):\n",
    "                CanisMajorRa.append(Ra[i,j])\n",
    "                CanisMajorDec.append(Dec[i,j])\n",
    "            \n",
    "            if (L[i,j]<220) and (L[i,j]>200):\n",
    "                MonocerosRa.append(Ra[i,j])\n",
    "                MonocerosDec.append(Dec[i,j])\n",
    "            \n",
    "            if (L[i,j]<200) and (L[i,j]>180):\n",
    "                GeminiRa.append(Ra[i,j])\n",
    "                GeminiDec.append(Dec[i,j])\n",
    "            \n",
    "    \n",
    "    Ara = np.array(AurigaRa)\n",
    "    Adec = np.array(AurigaDec)\n",
    "    if (len(AurigaRa) !=0):\n",
    "        Ara.shape = (N,-1)\n",
    "        Adec.shape = (N,-1)\n",
    "        print('Auriga')\n",
    "                \n",
    "                \n",
    "    Pra = np.array(PerseusRa)\n",
    "    Pdec = np.array(PerseusDec)\n",
    "    if (len(PerseusRa) !=0):\n",
    "        Pra.shape = (N,-1)\n",
    "        Pdec.shape = (N,-1)\n",
    "        print('Perseus')\n",
    "        \n",
    "    Casra = np.array(CassiopeiaRa)\n",
    "    Casdec = np.array(CassiopeiaDec)\n",
    "    if (len(CassiopeiaRa) !=0):\n",
    "        Casra.shape = (N,-1)\n",
    "        Casdec.shape = (N,-1)\n",
    "        print('Cassiopeia')\n",
    "        \n",
    "    Cephra = np.array(CepheusRa)\n",
    "    Cephdec = np.array(CepheusDec)\n",
    "    if (len(CepheusRa) !=0):\n",
    "        Cephra.shape = (N,-1)\n",
    "        Cephdec.shape = (N,-1)\n",
    "        print('Cepheus')\n",
    "        \n",
    "    Lacra = np.array(LacertaRa)\n",
    "    Lacdec = np.array(LacertaDec)\n",
    "    if (len(LacertaRa) !=0):\n",
    "        Lacra.shape = (N,-1)\n",
    "        Lacdec.shape = (N,-1)\n",
    "        print('Lacerta')\n",
    "        \n",
    "    Cygra = np.array(CygnusRa)\n",
    "    Cygdec = np.array(CygnusDec)\n",
    "    if (len(CygnusRa) !=0):\n",
    "        Cygra.shape = (N,-1)\n",
    "        Cygdec.shape = (N,-1)\n",
    "        print('Cygnus')\n",
    "        \n",
    "    Aqra = np.array(AquilaRa)\n",
    "    Aqdec = np.array(AquilaDec)\n",
    "    if (len(AquilaRa) !=0):\n",
    "        Aqra.shape = (N,-1)\n",
    "        Aqdec.shape = (N,-1)\n",
    "        print('Aquila')\n",
    "        \n",
    "    \n",
    "    Scra = np.array(ScutumRa)\n",
    "    Scdec = np.array(ScutumDec)\n",
    "    if (len(ScutumRa) !=0):\n",
    "        Scra.shape = (N,-1)\n",
    "        Scdec.shape = (N,-1)\n",
    "        print('Scutum')\n",
    "        \n",
    "    if (len(SagittariusRa) !=0):\n",
    "        Sagra = np.array(SagittariusRa)\n",
    "        Sagdec = np.array(SagittariusDec)\n",
    "        Sagra.shape = (N,-1)\n",
    "        Sagdec.shape = (N,-1)\n",
    "        print('Sagittarius')\n",
    "        \n",
    "    Scora = np.array(ScorpiusRa)\n",
    "    Scodec = np.array(ScorpiusDec)\n",
    "    if (len(ScorpiusRa) !=0):\n",
    "        Scora.shape = (N,-1)\n",
    "        Scodec.shape = (N,-1)\n",
    "        print('Scorpius')\n",
    "        \n",
    "    Lupra = np.array(LupusRa)\n",
    "    Lupdec = np.array(LupusDec)\n",
    "    if (len(LupusRa) !=0):\n",
    "        Lupra.shape = (N,-1)\n",
    "        Lupdec.shape = (N,-1)\n",
    "        print('Lupus')\n",
    "        \n",
    "    Cenra = np.array(CenterausRa)\n",
    "    Cendec = np.array(CenterausDec)\n",
    "    if (len(CenterausRa) !=0):\n",
    "        Cenra.shape = (N,-1)\n",
    "        Cendec.shape = (N,-1)\n",
    "        print('Centeraus')\n",
    "        \n",
    "    Cxra = np.array(CruxRa)\n",
    "    Cxdec = np.array(CruxDec)\n",
    "    if (len(CruxRa) !=0):\n",
    "        Cxra.shape = (N,-1)\n",
    "        Cxdec.shape = (N,-1)\n",
    "        print('Crux')\n",
    "    \n",
    "    Vra = np.array(VelaRa)\n",
    "    Vdec = np.array(VelaDec)    \n",
    "    if (len(VelaRa) !=0):\n",
    "        Vra.shape = (N,-1)\n",
    "        Vdec.shape = (N,-1)\n",
    "        print('Vela')\n",
    "        \n",
    "    Pura = np.array(PuppisRa)\n",
    "    Pudec = np.array(PuppisDec)\n",
    "    if (len(PuppisRa) !=0):\n",
    "        Pura.shape = (N,-1)\n",
    "        Pudec.shape = (N,-1)\n",
    "        print('Puppis')\n",
    "        \n",
    "    CMra = np.array(CanisMajorRa)\n",
    "    CMdec = np.array(CanisMajorDec)\n",
    "    if (len(CanisMajorRa) !=0):\n",
    "        CMra.shape = (N,-1)\n",
    "        CMdec.shape = (N,-1)\n",
    "        print('CanisMajor')\n",
    "        \n",
    "    Mra = np.array(MonocerosRa)\n",
    "    Mdec = np.array(MonocerosDec)\n",
    "    if (len(MonocerosRa) !=0):\n",
    "        Mra.shape = (N,-1)\n",
    "        Mdec.shape = (N,-1)\n",
    "        print('Monoceros')\n",
    "    \n",
    "    Gra = np.array(GeminiRa)\n",
    "    Gdec = np.array(GeminiDec)\n",
    "    if (len(GeminiRa) !=0): \n",
    "        Gra.shape = (N,-1)\n",
    "        Gdec.shape = (N,-1)\n",
    "        print('Gemini')\n",
    "    \n",
    "    return [Ara,Adec,Pra,Pdec,Casra,Casdec,Cephra,Cephdec,Lacra,Lacdec,Cygra,Cygdec,Aqra,Aqdec,Scra,Scdec,Sagra,Sagdec,Scora,Scodec,Lupra,Lupdec,Cenra,Cendec,Cxra,Cxdec,Vra,Vdec,Pura,Pudec,CMra,CMdec,Mra,Mdec,Gra,Gdec]\n",
    "    \n",
    "    \n",
    "\n",
    "\n",
    "'''\n",
    "lat = 37.34\n",
    "lon = 121.6\n",
    "alt = 100\n",
    "t = astropy.time.Time(time.time(),format='unix')\n",
    "l = astropy.coordinates.EarthLocation(lat=lat*u.deg,\n",
    "                        lon=lon*u.deg,height=alt*u.m)\n",
    "f = astropy.coordinates.AltAz(obstime=t,location=l)\n",
    "equinox='J2019'\n",
    "c = astropy.coordinates.SkyCoord(Ra, Dec, frame='fk5',unit='deg',equinox=equinox)\n",
    "altaz = c.transform_to(f)\n",
    "'''"
   ]
  },
  {
   "cell_type": "code",
   "execution_count": 206,
   "metadata": {
    "scrolled": true
   },
   "outputs": [
    {
     "name": "stdout",
     "output_type": "stream",
     "text": [
      "21\n",
      "66\n",
      "Auriga\n",
      "Perseus\n",
      "Cassiopeia\n",
      "Cepheus\n",
      "Lacerta\n",
      "Cygnus\n",
      "Aquila\n",
      "Scutum\n",
      "Sagittarius\n",
      "Puppis\n",
      "CanisMajor\n",
      "Monoceros\n",
      "Gemini\n"
     ]
    }
   ],
   "source": [
    "L, B = getGalacticPointing(-10,250,-20,20)\n",
    "A = ConstPointing(L,B)\n",
    "AurigaRa = A[0]\n",
    "AurigaDec = A[1]\n",
    "PerseusRa = A[2]\n",
    "PerseusDec = A[3]\n",
    "CassiopeiaRa = A[4]\n",
    "CassiopeiaDec = A[5]\n",
    "CepheusRa = A[6]\n",
    "CepheusDec = A[7]\n",
    "LacertaRa = A[8]\n",
    "LacertaDec = A[9]\n",
    "CygnusRa = A[10]\n",
    "CygnusDec = A[11]\n",
    "AquilaRa = A[12]\n",
    "AquilaDec = A[13]\n",
    "ScutumRa = A[14]\n",
    "ScutumDec = A[15]\n",
    "SagittariusRa = A[16]\n",
    "SagittariusDec = A[17]\n",
    "PuppisRa = A[18]\n",
    "PuppisDec = A[19]\n",
    "CanisMajorRa = A[20]\n",
    "CanisMajorDec = A[21]\n",
    "MonocerosRa = A[22]\n",
    "MonocerosDec = A[23]\n",
    "GeminiRa = A[24]\n",
    "GeminiDec = A[25]"
   ]
  },
  {
   "cell_type": "code",
   "execution_count": 196,
   "metadata": {},
   "outputs": [
    {
     "data": {
      "text/plain": [
       "array([[53.63622295, 50.0780821 , 46.51829028, 42.96043836, 39.40752408],\n",
       "       [52.94640123, 49.39894537, 45.84302512, 42.28351992, 38.72434696],\n",
       "       [52.17646871, 48.64878701, 45.10485909, 41.55100991, 37.99220882],\n",
       "       [51.33130412, 47.83150942, 44.30697391, 40.76554701, 37.21333188],\n",
       "       [50.41582967, 46.95105844, 43.45258593, 39.92979379, 36.38995233],\n",
       "       [49.43491858, 46.0113613 , 42.54490427, 39.04640838, 35.52430111],\n",
       "       [48.39332131, 45.01627537, 41.58709554, 38.11802026, 34.61858745],\n",
       "       [47.29560982, 43.9695477 , 40.5822551 , 37.14721018, 33.67498497],\n",
       "       [46.14613817, 42.87478451, 39.53338452, 36.13649397, 32.69562042],\n",
       "       [44.94901733, 41.73542972, 38.44337477, 35.08831009, 31.68256467],\n",
       "       [43.70810157, 40.55475114, 37.31499448, 34.00501044, 30.63782604],\n",
       "       [42.42698412, 39.3358331 , 36.15088247, 32.88885404, 29.5633454 ],\n",
       "       [41.10899989, 38.08157424, 34.95354402, 31.74200328, 28.46099311],\n",
       "       [39.75723333, 36.79468936, 33.72535001, 30.56652225, 27.33256737],\n",
       "       [38.37452986, 35.47771436, 32.4685385 , 29.3643768 , 26.17979375],\n",
       "       [36.96350952, 34.13301325, 31.18521812, 28.13743604, 25.0043259 ],\n",
       "       [35.52658204, 32.76278682, 29.87737278, 26.88747486, 23.80774693],\n",
       "       [34.06596234, 31.36908215, 28.54686742, 25.61617741, 22.59157161],\n",
       "       [32.58368612, 29.95380272, 27.19545441, 24.32514116, 21.35724901],\n",
       "       [31.08162504, 28.51871859, 25.82478028, 23.01588137, 20.10616559],\n",
       "       [29.5615013 , 27.06547665, 24.43639278, 21.68983591, 18.83964857]])"
      ]
     },
     "execution_count": 196,
     "metadata": {},
     "output_type": "execute_result"
    }
   ],
   "source": [
    "Constellations[1]"
   ]
  },
  {
   "cell_type": "code",
   "execution_count": 51,
   "metadata": {},
   "outputs": [],
   "source": [
    "Ra,Dec = PointingPlan(L,B)"
   ]
  },
  {
   "cell_type": "code",
   "execution_count": 71,
   "metadata": {},
   "outputs": [],
   "source": [
    "W = np.empty((N,M))"
   ]
  },
  {
   "cell_type": "code",
   "execution_count": 74,
   "metadata": {},
   "outputs": [
    {
     "data": {
      "text/plain": [
       "20"
      ]
     },
     "execution_count": 74,
     "metadata": {},
     "output_type": "execute_result"
    }
   ],
   "source": [
    "AurigaRa = np.array([])\n",
    "    PerseusRa = np.zeros((M,N))\n",
    "    CassiopeiaRa = np.zeros((M,N))\n",
    "    CepheusRa = np.zeros((M,N))\n",
    "    LacertaRa = np.zeros((M,N))\n",
    "    CygnusRa = np.zeros((M,N))\n",
    "    AquilaRa = np.zeros((M,N))\n",
    "    ScutumRa = np.zeros((M,N))\n",
    "    SagittariusRa = np.zeros((M,N))\n",
    "    ScorpiusRa = np.zeros((M,N))\n",
    "    LupusRa = np.zeros((M,N))\n",
    "    CenteraususRa = np.zeros((M,N))\n",
    "    CruxRa = np.zeros((M,N))\n",
    "    VelaRa = np.zeros((M,N))\n",
    "    PuppisRa = np.zeros((M,N))\n",
    "    CanisMajorRa = np.zeros((M,N))\n",
    "    MonocerosRa = np.zeros((M,N))\n",
    "    GeminiRa = np.zeros((M,N))\n",
    "    \n",
    "    AurigaDec = np.zeros((M,N))\n",
    "    PerseusDec = np.zeros((M,N))\n",
    "    CassiopeiaDec = np.zeros((M,N))\n",
    "    CepheusDec = np.zeros((M,N))\n",
    "    LacertaDec = np.zeros((M,N))\n",
    "    CygnusDec = np.zeros((M,N))\n",
    "    AquilaDec = np.zeros((M,N))\n",
    "    ScutumDec = np.zeros((M,N))\n",
    "    SagittariusDec = np.zeros((M,N))\n",
    "    ScorpiusDec = np.zeros((M,N))\n",
    "    LupusDec = np.zeros((M,N))\n",
    "    CenteraususDec = np.zeros((M,N))\n",
    "    CruxDec = np.zeros((M,N))\n",
    "    VelaDec = np.zeros((M,N))\n",
    "    PuppisDec = np.zeros((M,N))\n",
    "    CanisMajorDec = np.zeros((M,N))\n",
    "    MonocerosDec = np.zeros((M,N))\n",
    "    GeminiDec = np.zeros((M,N))"
   ]
  },
  {
   "cell_type": "code",
   "execution_count": 75,
   "metadata": {},
   "outputs": [],
   "source": [
    "d = []\n",
    "for i in range (0,10):\n",
    "    d.append(i)\n"
   ]
  },
  {
   "cell_type": "code",
   "execution_count": 107,
   "metadata": {},
   "outputs": [],
   "source": [
    "D = np.array(d)"
   ]
  },
  {
   "cell_type": "code",
   "execution_count": 108,
   "metadata": {},
   "outputs": [],
   "source": [
    "D.shape = (2,-1)"
   ]
  },
  {
   "cell_type": "code",
   "execution_count": 109,
   "metadata": {},
   "outputs": [
    {
     "data": {
      "text/plain": [
       "7"
      ]
     },
     "execution_count": 109,
     "metadata": {},
     "output_type": "execute_result"
    }
   ],
   "source": [
    "D[1,2]"
   ]
  },
  {
   "cell_type": "code",
   "execution_count": null,
   "metadata": {},
   "outputs": [],
   "source": []
  },
  {
   "cell_type": "code",
   "execution_count": 110,
   "metadata": {},
   "outputs": [
    {
     "data": {
      "text/plain": [
       "20"
      ]
     },
     "execution_count": 110,
     "metadata": {},
     "output_type": "execute_result"
    }
   ],
   "source": [
    "N"
   ]
  },
  {
   "cell_type": "code",
   "execution_count": 124,
   "metadata": {},
   "outputs": [
    {
     "data": {
      "text/plain": [
       "65"
      ]
     },
     "execution_count": 124,
     "metadata": {},
     "output_type": "execute_result"
    }
   ],
   "source": [
    "M"
   ]
  },
  {
   "cell_type": "code",
   "execution_count": null,
   "metadata": {},
   "outputs": [],
   "source": []
  }
 ],
 "metadata": {
  "kernelspec": {
   "display_name": "Python 3",
   "language": "python",
   "name": "python3"
  },
  "language_info": {
   "codemirror_mode": {
    "name": "ipython",
    "version": 3
   },
   "file_extension": ".py",
   "mimetype": "text/x-python",
   "name": "python",
   "nbconvert_exporter": "python",
   "pygments_lexer": "ipython3",
   "version": "3.6.5"
  }
 },
 "nbformat": 4,
 "nbformat_minor": 2
}

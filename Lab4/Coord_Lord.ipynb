{
 "cells": [
  {
   "cell_type": "code",
   "execution_count": 197,
   "metadata": {
    "collapsed": true
   },
   "outputs": [],
   "source": [
    "import numpy as np\n",
    "from __future__ import division"
   ]
  },
  {
   "cell_type": "markdown",
   "metadata": {},
   "source": [
    "# 1) Converting HMS/DMS Equatorial to Decimal Equatorial"
   ]
  },
  {
   "cell_type": "markdown",
   "metadata": {},
   "source": [
    "## Functions"
   ]
  },
  {
   "cell_type": "code",
   "execution_count": 94,
   "metadata": {
    "collapsed": false
   },
   "outputs": [],
   "source": [
    "def HMS(hour, minute, second):\n",
    "    \"\"\"\n",
    "    Converts RA from hour-minute-second notation to decimal notation.\n",
    "    \n",
    "    Arguments:\n",
    "    hour: RA value of degree. \n",
    "    minute: RA value of minute.\n",
    "    second: RA value of second.\n",
    "    \n",
    "    Returns:\n",
    "    Decimal representation of the degree-minute-second declination.\n",
    "    \"\"\"\n",
    "    minute = minute/60\n",
    "    second = second/3600\n",
    "    decimal = 15*(hour + minute + second)\n",
    "    return decimal\n",
    "  \n",
    "    \n",
    "def DMS(degree, arcmin, arcsec):\n",
    "    \"\"\"\n",
    "    Converts dec from degree-minute-second notation to decimal notation.  \n",
    "    \n",
    "    Arguments:\n",
    "    degree: dec value of degree. \n",
    "    arcmin: dec value of arcminute.\n",
    "    arcsec: dec value of arcsecond.\n",
    "    \n",
    "    Returns:\n",
    "    Decimal representation of the degree-minute-second declination.\n",
    "    \"\"\"\n",
    "    arcmin = arcmin/60\n",
    "    arcsec = arcsec/3600\n",
    "    if degree < 0:\n",
    "        decimal = -(np.abs(degree) + arcmin + arcsec)\n",
    "    else:\n",
    "        decimal = np.abs(degree) + arcmin + arcsec\n",
    "    return decimal"
   ]
  },
  {
   "cell_type": "markdown",
   "metadata": {},
   "source": [
    "## Examples"
   ]
  },
  {
   "cell_type": "code",
   "execution_count": 196,
   "metadata": {
    "collapsed": false
   },
   "outputs": [
    {
     "name": "stdout",
     "output_type": "stream",
     "text": [
      "Polaris    | (37.946083333333334, 89.26416666666667)  | North Star\n",
      "λ Piscium  | (355.5120833333333, 1.7804194444444443)  | Vernal Equinox\n",
      "TRAPPIST-1 | (346.6220129166667, -5.041275)           | Habitable Exoplanets\n",
      "Messier 87 | (187.70583333333335, 12.390555555555554) | Black Hole Photo\n"
     ]
    }
   ],
   "source": [
    "#Polaris: The North Star, dec≈90°\n",
    "print 'Polaris    |',(HMS(2,31,47.06), DMS(89,15,51)),' | North Star'\n",
    "\n",
    "#λ Piscium: Star closest to Vernal equinox, RA≈0h\n",
    "print 'λ Piscium  |',(HMS(23, 42, 2.9), DMS(1,46,49.51)),' | Vernal Equinox'\n",
    "\n",
    "#TRAPPIST-1: Location of seven temperate terrestrial planets\n",
    "print 'TRAPPIST-1 |',(HMS(23,6,29.2831), DMS(-5,2,28.59)),'          | Habitable Exoplanets' \n",
    "\n",
    "#Messier 87: Location of the EHT black hole photograph\n",
    "print 'Messier 87 |', (HMS(12,30,49.4), DMS(12,23,26)),'| Black Hole Photo'\n"
   ]
  },
  {
   "cell_type": "markdown",
   "metadata": {},
   "source": [
    "# 2) Converting Between Galactic and Equatorial"
   ]
  },
  {
   "cell_type": "markdown",
   "metadata": {},
   "source": [
    "## Functions"
   ]
  },
  {
   "cell_type": "code",
   "execution_count": 118,
   "metadata": {
    "collapsed": false
   },
   "outputs": [],
   "source": [
    "def gal2equ(l, b):\n",
    "    \"\"\"\n",
    "    Converts galactic coordinates to equatorial coordinates, according to the epoch J2000. \n",
    "    \n",
    "    Arguments:\n",
    "    l, Galactic longitude (degrees).\n",
    "    b, Galactic latitude (degrees).\n",
    "    \n",
    "    Returns: \n",
    "    RA, Equatorial right ascension (degrees).\n",
    "    dec, Equatorial declination (degrees).\n",
    "    \"\"\"\n",
    "    l = np.radians(l)\n",
    "    b = np.radians(b) \n",
    "    x = np.array([0.,0,0])\n",
    "    x[0] = np.cos(b) * np.cos(l)\n",
    "    x[1] = np.cos(b) * np.sin(l)\n",
    "    x[2] = np.sin(b)\n",
    "    R = np.array([-0.054876, -0.873437, -0.483835, 0.494109, -0.444830, 0.746982, -0.867666, -0.198076, 0.455984])\n",
    "    R = R.reshape(3, 3)\n",
    "    iR = np.linalg.inv(R)\n",
    "    xp = np.dot(iR, x)\n",
    "    RA = np.arctan2(xp[1], xp[0])\n",
    "    dec = np.arcsin(xp[2])\n",
    "    RA = np.degrees(RA)\n",
    "    dec = np.degrees(dec)\n",
    "    return (RA, dec)\n",
    "\n",
    "\n",
    "def equ2gal(RA, dec):\n",
    "    \"\"\"\n",
    "    Converts equatorial coordinates to galactic coordinates, according to the epoch J2000. \n",
    "    \n",
    "    Arguments:\n",
    "    RA, Equatorial right ascension (degrees).\n",
    "    dec, Equatorial declination (degrees).\n",
    "    \n",
    "    Returns: \n",
    "    l, Galactic longitude (degrees).\n",
    "    b, Galactic latitude (degrees).\n",
    "    \"\"\"\n",
    "    RA = np.radians(RA)\n",
    "    dec = np.radians(dec) \n",
    "    x = np.array([0.,0,0])\n",
    "    x[0] = np.cos(dec) * np.cos(RA)\n",
    "    x[1] = np.cos(dec) * np.sin(RA)\n",
    "    x[2] = np.sin(dec)\n",
    "    R = np.array([-0.054876, -0.873437, -0.483835, 0.494109, -0.444830, 0.746982, -0.867666, -0.198076, 0.455984])\n",
    "    R = R.reshape(3, 3)\n",
    "    xp = np.dot(R, x)\n",
    "    l = np.arctan2(xp[1], xp[0])\n",
    "    b = np.arcsin(xp[2])\n",
    "    l = np.degrees(l)\n",
    "    b = np.degrees(b)\n",
    "    if l < 0:\n",
    "        l = l + 360\n",
    "    return (l, b)"
   ]
  },
  {
   "cell_type": "markdown",
   "metadata": {},
   "source": [
    "## Examples"
   ]
  },
  {
   "cell_type": "code",
   "execution_count": 201,
   "metadata": {
    "collapsed": false
   },
   "outputs": [
    {
     "name": "stdout",
     "output_type": "stream",
     "text": [
      "Aaron   | (6.450801282430336, 62.72574264979434)      | Lab 2 Cassiopiea\n",
      "Sgr A*  | (359.94431539014397, -0.046189046517267573) | Galactic Center\n",
      "β Tauri | (177.99412720673072, -3.7452395574085124)   | Galactic Anticenter\n",
      "31 Com  | (115.01398209267651, 89.58265198048663)     | North Galactic Pole\n",
      "NGC 288 | (151.79369199370132, -89.38087316218108)    | South Galactic Pole\n"
     ]
    }
   ],
   "source": [
    "#Aaron's \"canonical comparison position\"\n",
    "print 'Aaron   |', gal2equ(120, 0),'     | Lab 2 Cassiopiea'\n",
    "\n",
    "#Sagittarius A*: Center of Milky Way, l≈0°\n",
    "print 'Sgr A*  |', equ2gal(HMS(17,45,40.046), DMS(-29,0,28)),'| Galactic Center'\n",
    "\n",
    "#Beta Tauri: Anticenter of Milky Way, l≈180°\n",
    "print 'β Tauri |', equ2gal(HMS(5,26,17.5), DMS(28,36,28)),'  | Galactic Anticenter'\n",
    "\n",
    "#31 Comae Berenices: North galactic pole, b≈90°\n",
    "print '31 Com  |', equ2gal(HMS(12,51,41.8), DMS(27,32,27)),'    | North Galactic Pole'\n",
    "\n",
    "#NGC 288: Sourth galactic pole, b≈-90°\n",
    "print 'NGC 288 |', equ2gal(HMS(0,52,46.4), DMS(-26,35,10)),'   | South Galactic Pole'\n"
   ]
  },
  {
   "cell_type": "code",
   "execution_count": null,
   "metadata": {
    "collapsed": false
   },
   "outputs": [],
   "source": []
  }
 ],
 "metadata": {
  "kernelspec": {
   "display_name": "Python 2",
   "language": "python",
   "name": "python2"
  },
  "language_info": {
   "codemirror_mode": {
    "name": "ipython",
    "version": 2
   },
   "file_extension": ".py",
   "mimetype": "text/x-python",
   "name": "python",
   "nbconvert_exporter": "python",
   "pygments_lexer": "ipython2",
   "version": "2.7.12"
  }
 },
 "nbformat": 4,
 "nbformat_minor": 1
}
